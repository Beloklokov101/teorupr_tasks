{
 "cells": [
  {
   "cell_type": "markdown",
   "id": "7af401a0-4f39-4fb6-ba5a-37c11ff22172",
   "metadata": {},
   "source": [
    "# Решение задачи оптимального управления"
   ]
  },
  {
   "cell_type": "markdown",
   "id": "859aee24-73f6-4e88-bce9-c4092f326c9b",
   "metadata": {},
   "source": [
    "## Постановка задачи\n",
    "\n",
    "$$\\tag{0}\n",
    "\\begin{cases}\n",
    " & \\dot{x_1} = x_2  \\\\ \n",
    " & \\dot{x_2} = - x_2 + u\n",
    "\\end{cases}\n",
    "$$\n",
    "\n",
    "**Цель:** описать контроллер, переводящий описанную систему из состояния $\\mathbf{x}(0) = \\mathbf{0}$ на линию:\n",
    "\n",
    "$$x_1 + 5x_2 = 15$$\n",
    "\n",
    "и *минимизирующий* функционал:\n",
    "\n",
    "$$\n",
    "J = \\frac{1}{2}(x_1(2) - 5)^2 + \\frac{1}{2}(x_2(2) - 2)^2 + \\frac{1}{2}\\int_0^2u^2dt\n",
    "$$"
   ]
  },
  {
   "cell_type": "markdown",
   "id": "55e94cb8-4009-4c71-b803-d11ad82e664b",
   "metadata": {},
   "source": [
    "## Принцип максимума Понтрягина\n",
    "\n",
    "Вектор сопряжённых переменных:\n",
    "$$p \\in \\mathbf{R}^2$$\n",
    "\n",
    "Функция Гамильтона-Понтрягина (гамильтониан):\n",
    "$$H(x,p,u,t) = p'\\cdot f - \\lambda_0\\cdot f_0$$\n",
    "\n",
    "где $f_0$ есть функция под интегралом в минимизируемом функционале, $\\lambda_0 \\geq 0$ .\n",
    "\n",
    "Дифференциальные уравнения для фазовых и сопряжённых переменных:\n",
    "\n",
    "$$\\begin{equation}\\tag{1}\n",
    " \\left\\{\n",
    "    \\begin{array}\\\\\n",
    "       \\dot{x} = \\frac{\\partial H}{\\partial p} \\\\\n",
    "       \\dot{p} = -\\frac{\\partial H}{\\partial x} \n",
    "    \\end{array}   \n",
    "\\right.\n",
    "\\end{equation}$$\n",
    "\n",
    "Подставляя известные выражения, получаю соотношение:\n",
    "$$\\tag{2}\n",
    "H = p_1\\cdot x_2 + p_2\\cdot (- x_2 + u) - \\lambda_0\\cdot u^2 / 2\n",
    "$$\n",
    "\n",
    "Следуя теореме принципа максимума Понтрягина, необходимо, чтобы оптимальное управление $u(t)$ на соответствующей ему траектории $x(t), p(t)$ для системы (1) с условиями трансверсальности выполнялось условие:\n",
    "$$H(x,p,u,t) = \\max_{v\\in\\mathbb{U}}H(x,p,v,t), \\quad t \\in [t_0,t_f]$$\n",
    "\n",
    "В таком случае из уравнения (2) можно сделать вывод, что оптимальное управление должно удовлетворять условию:\n",
    "$$\n",
    "u^{*} = \\max_{u}(p_2\\cdot u - \\lambda_0\\cdot \\frac{u^2}{2})\n",
    "$$\n",
    "\n",
    "Отсюда можно получить, что при $\\lambda_0 = 1$ оптимальное управление должно удовлетворять уравнению:\n",
    "$$u^{*} = p_2$$\n",
    "\n",
    "Из системы (1) можно получить уравнения на $\\mathbf{p}$:\n",
    "$$\n",
    "\\left\\{\n",
    "    \\begin{array}\\\\\n",
    "       \\dot{p_1} = -\\frac{\\partial H}{\\partial x_1} = 0 \\\\\n",
    "       \\dot{p_2} = -\\frac{\\partial H}{\\partial x_2} = p_2 - p_1\n",
    "    \\end{array}   \n",
    "\\right. \n",
    "$$\n",
    "\n",
    "Решая полученную систему, прихожу к уравнениям:\n",
    "$$\\tag{3}\n",
    "\\left\\{\n",
    "    \\begin{array}\\\\\n",
    "       p_1 = C_1 \\\\\n",
    "       p_2 = C_1 + C_2\\cdot e^{t} = u^{*}\n",
    "    \\end{array}   \n",
    "\\right. \n",
    "$$"
   ]
  },
  {
   "cell_type": "markdown",
   "id": "e8897891-20c4-471a-84a4-76b198fcc69c",
   "metadata": {},
   "source": [
    "## Условия траснверсальности\n",
    "\n",
    "Так как левый конец жестко закреплен, а на правый задано дополнительное условие $g_1(x, t)$, условие трансверсальности пишется только на правую границу. В общем виде оно будет записано так:\n",
    "$$g_1(x, t) = x_1(t_f) + 5x_2(t_f) - 15 = 0$$\\\n",
    "$$p(t_f) = - \\lambda_0\\frac{\\partial \\Phi(x,t)}{\\partial x} \n",
    "- \\lambda_1\\frac{\\partial g_1(x,t)}{\\partial x} $$\n",
    "здесь $\\lambda_0^2 + \\lambda_1^2 \\neq 0$ \n",
    "\n",
    "С помощью этого условия можно получить дополнительные условия на $u^{*}$:\n",
    "$$\n",
    "u^{*} = 5 - x_1(t_f) - \\frac{\\lambda_1}{\\lambda_0} +\n",
    "(x_1(t_f) - x_2(t_f) - 4\\frac{\\lambda_1}{\\lambda_0})\\cdot e^{t - t_f}\n",
    "$$\n",
    "\n",
    "Однако при простых значениях $\\lambda_1 / \\lambda_0 = 0; 1$ полученное управление не удовлетворяет конечному условию, система не выходит на заданную прямую $g_1(x, t)$. В теории можно попробовать угадать нужное значение отношений лямбд, если полученное уравнение в принципе является верным.\\\n",
    "С другой стороны, можно воспользоваться простотой заданной системы ОДУ и получить уравнения на $C_1, C_2$, решив ОДУ для управления (3)."
   ]
  },
  {
   "cell_type": "markdown",
   "id": "6569a6b5-3dd8-4ff2-bf79-5f9411ce7b08",
   "metadata": {},
   "source": [
    "## Решение ОДУ для заданного управления\n",
    "\n",
    "Подставляю управление (3) в систему (0) и решаю с учетом начальных и конечных условий. В результате получаю:\n",
    "\n",
    "$$\n",
    "A = x_2(t_f) + x_1(t_f) \\qquad B = (x_2(t_f) - x_1(t_f))\\cdot e^{t_f}\n",
    "$$\n",
    "\\\n",
    "$$\\tag{4}\n",
    "\\left\\{\n",
    "    \\begin{array}\\\\\n",
    "       A - B = C_1\\cdot (t_f + 2 + (t_f - 2)\\cdot e^{t_f}) \\\\\n",
    "       A - C_1\\cdot T = C_2\\cdot (e^{t_f} - 1)\n",
    "    \\end{array}   \n",
    "\\right.\n",
    "$$\n",
    "\n",
    "Приведенный ниже код подтверждает правильность этой системы уравнений. С такими условиями на $C_1, C_2$ система (0) выходит на требуемую линию $g_1(x, t)$, а также вид $u^{*}$ удовлетворяет теореме Понтрягина, а значит на этом управлении будет достигаться минимум функционала.\n",
    "\n",
    "Подставив управление $u^{*}$ известного вида в уравнение функционала, можно получить:\n",
    "$$\\tag{5}\n",
    "J = \\frac{1}{2}[(x_1(2) - 5)^2 + (x_2(2) - 2)^2 + \n",
    "C_1^2\\cdot t_f + 2C_1C_2\\cdot (e^{t_f} - 1) + \\frac{C_1^2}{2}\\cdot(e^{2t_f} - 1)]\n",
    "$$"
   ]
  },
  {
   "cell_type": "markdown",
   "id": "4a4d1cf1-77a7-4eca-aa17-7d19af24f7bc",
   "metadata": {},
   "source": [
    "## Моделирование"
   ]
  },
  {
   "cell_type": "code",
   "execution_count": 2,
   "id": "ce5941e3-6309-4d90-af5d-0a5287484d5e",
   "metadata": {},
   "outputs": [],
   "source": [
    "import numpy as np\n",
    "import scipy.integrate as sci\n",
    "import matplotlib.pyplot as plt\n",
    "from scipy.integrate import solve_ivp"
   ]
  },
  {
   "cell_type": "markdown",
   "id": "d8051e86-7342-4efc-92bc-b2bb63b96643",
   "metadata": {},
   "source": [
    "Параметры моделирования:"
   ]
  },
  {
   "cell_type": "code",
   "execution_count": 3,
   "id": "0f3373f1-41f6-4152-8653-c9e9f473e9de",
   "metadata": {},
   "outputs": [],
   "source": [
    "class Parameters(object):\n",
    "    pass\n",
    "\n",
    "t0 = 0          # start time\n",
    "tf = 2          # final time\n",
    "dt = 0.002      # step-size\n",
    "N = 1000        # x-step-size\n",
    "\n",
    "u_param = Parameters()"
   ]
  },
  {
   "cell_type": "markdown",
   "id": "7422f1c8-09dc-4669-8df6-25ff2e1e4edb",
   "metadata": {},
   "source": [
    "Вектор управления $u^{*}$ в соответствии с (3):"
   ]
  },
  {
   "cell_type": "code",
   "execution_count": 4,
   "id": "ac63099e-efa6-454d-9f09-f042b515db9a",
   "metadata": {},
   "outputs": [],
   "source": [
    "def control(t, u_param):\n",
    "    u = u_param.C1 + u_param.C2 * np.exp(t)\n",
    "    return u"
   ]
  },
  {
   "cell_type": "markdown",
   "id": "c3a1d7f1-a975-4c38-b183-f3583ab6ae7f",
   "metadata": {},
   "source": [
    "Функция перехода на следующий шаг для численного решения ОДУ (0):"
   ]
  },
  {
   "cell_type": "code",
   "execution_count": 5,
   "id": "29fe53be-d2ab-4625-958a-26a3bdccf935",
   "metadata": {},
   "outputs": [],
   "source": [
    "def ode(t, x, u_param):\n",
    "    dxdt = np.zeros(2)\n",
    "\n",
    "    x1 = x[0]\n",
    "    x2 = x[1]\n",
    "\n",
    "    u = control(t, u_param)\n",
    "\n",
    "    dxdt[0] = x2\n",
    "    dxdt[1] = - x2 + u\n",
    "\n",
    "    return dxdt"
   ]
  },
  {
   "cell_type": "markdown",
   "id": "49b7bf46-9bbd-46ef-9e3b-06a63c65e448",
   "metadata": {},
   "source": [
    "Функция расчета коэффициентов $C_1, C_2$ в соответствии с (4):"
   ]
  },
  {
   "cell_type": "code",
   "execution_count": 6,
   "id": "2ff8b004-f625-48c5-952e-d83c12f8f8fa",
   "metadata": {},
   "outputs": [],
   "source": [
    "def get_C1C2(u_param, x1f, x2f, tf):\n",
    "    exp_T = np.exp(tf)\n",
    "    A = x2f + x1f\n",
    "    B = (x2f - x1f) * exp_T\n",
    "    u_param.C1 = (A - B) / (tf + 2 + (tf - 2) * exp_T)\n",
    "    u_param.C2 = (A - u_param.C1 * tf) / (exp_T - 1)"
   ]
  },
  {
   "cell_type": "markdown",
   "id": "9ac1c25a-dae0-4ccd-b059-b4dfb71d543e",
   "metadata": {},
   "source": [
    "Расчет значений функционала (5) для различных $x_1, x_2$:"
   ]
  },
  {
   "cell_type": "code",
   "execution_count": 7,
   "id": "c6984f62-4347-49cd-b8d1-abff12ce9913",
   "metadata": {},
   "outputs": [],
   "source": [
    "x1_range = np.linspace(0, 10, N + 1)  # x1 vector\n",
    "x2_range = (15 - x1_range) / 5        # x2 vector\n",
    "\n",
    "J = np.zeros(N + 1)\n",
    "it = 0\n",
    "for x2 in x2_range:\n",
    "    x2f = x2\n",
    "    x1f = 15 - 5 * x2f\n",
    "\n",
    "    get_C1C2(u_param, x1f, x2f, tf)   \n",
    "    exp_T = np.exp(tf)\n",
    "    exp_2T = np.exp(2 * tf)\n",
    " \n",
    "    u_integ = u_param.C1**2 * tf + 2 * u_param.C1 * u_param.C2 * (exp_T - 1) + u_param.C2**2 * (exp_2T - 1) / 2\n",
    "    J_step = ((x1f - 5)**2 + (x2f - 2)**2 + u_integ) / 2\n",
    "    \n",
    "    J[it] = J_step\n",
    "    it += 1"
   ]
  },
  {
   "cell_type": "markdown",
   "id": "d45b4440-f059-4d16-af89-68955cb8764d",
   "metadata": {},
   "source": [
    "Выделение среди рассмотренных пар $x_1, x_2$ той, которая дает минимальный функционал из полученных:"
   ]
  },
  {
   "cell_type": "code",
   "execution_count": 9,
   "id": "c55c6116-5f53-4671-bbdb-52e6d6072164",
   "metadata": {},
   "outputs": [
    {
     "name": "stdout",
     "output_type": "stream",
     "text": [
      "<Solution>\n",
      "Best end x:\n",
      "  x1 = 3.06\n",
      "  x2 = 2.388\n"
     ]
    }
   ],
   "source": [
    "x1_best = x1_range[np.argmin(J)]\n",
    "x2_best = (15 - x1_best) / 5\n",
    "\n",
    "print(\"<Solution>\\nBest end x:\")\n",
    "print(f\"  x1 = {x1_best}\")\n",
    "print(f\"  x2 = {x2_best}\")\n",
    "\n",
    "u_param_best = Parameters()\n",
    "u_param_best.x1f = x1_best\n",
    "u_param_best.x2f = x2_best\n",
    "get_C1C2(u_param_best, x1_best, x2_best, tf)\n",
    "\n",
    "tt = np.arange(t0, tf, dt)\n",
    "x0 = [0, 0]\n",
    "\n",
    "sol = sci.solve_ivp(lambda t, x: ode(t, x, u_param_best), (t0, tf), x0, t_eval=tt)\n",
    "y_traj = sol.y"
   ]
  },
  {
   "cell_type": "code",
   "execution_count": 14,
   "id": "1e8b02de-3b28-4d89-b243-d08c827b3587",
   "metadata": {},
   "outputs": [
    {
     "data": {
      "image/png": "[encoded data removed]",
      "text/plain": [
       "<Figure size 432x288 with 2 Axes>"
      ]
     },
     "metadata": {
      "needs_background": "light"
     },
     "output_type": "display_data"
    }
   ],
   "source": [
    "plt.subplot(2, 1, 1)\n",
    "\n",
    "plt.plot(y_traj[0], y_traj[1])\n",
    "plt.plot(x1_range, x2_range)\n",
    "plt.vlines(x1_best, ymin=0, ymax=np.max(x2_range), colors=\"r\", linestyles=\"dashdot\")\n",
    "\n",
    "plt.title(\"best trajectory\")\n",
    "plt.legend([\"trajectory\", \"final line\"])\n",
    "plt.xlabel(\"x1\")\n",
    "plt.ylabel(\"x2\")\n",
    "plt.grid(True)\n",
    "\n",
    "plt.subplot(2, 1, 2)\n",
    "\n",
    "plt.plot(x1_range, J, \"k\", lw=1.5)\n",
    "plt.vlines(x1_best, ymin=0, ymax=np.max(J), colors=\"r\", linestyles=\"dashdot\")\n",
    "\n",
    "plt.title(\"functional\")\n",
    "plt.xlabel(\"x1\")\n",
    "plt.grid(True)\n",
    "\n",
    "plt.tight_layout()\n",
    "plt.show()"
   ]
  }
 ],
 "metadata": {
  "kernelspec": {
   "display_name": "Python 3 (ipykernel)",
   "language": "python",
   "name": "python3"
  },
  "language_info": {
   "codemirror_mode": {
    "name": "ipython",
    "version": 3
   },
   "file_extension": ".py",
   "mimetype": "text/x-python",
   "name": "python",
   "nbconvert_exporter": "python",
   "pygments_lexer": "ipython3",
   "version": "3.9.7"
  }
 },
 "nbformat": 4,
 "nbformat_minor": 5
}

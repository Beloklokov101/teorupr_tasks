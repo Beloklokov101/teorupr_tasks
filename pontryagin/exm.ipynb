{
 "cells": [
  {
   "cell_type": "code",
   "execution_count": 1,
   "id": "121628c6",
   "metadata": {},
   "outputs": [],
   "source": [
    "import numpy as np\n",
    "import scipy.integrate as sci\n",
    "import matplotlib.pyplot as plt"
   ]
  },
  {
   "cell_type": "code",
   "execution_count": 6,
   "id": "3b58df34",
   "metadata": {},
   "outputs": [],
   "source": [
    "class Parameters(object):\n",
    "    pass\n",
    "\n",
    "par = Parameters()\n",
    "par.lambd = 1\n",
    "\n",
    "def control(x):\n",
    "    return - par.lambd * (x[1] + x[0]**2)**2 - x[0] - 2 * x[0] * (x[0]**2 - x[0]**3 + x[1])\n",
    "    \n",
    "def rhs(t, x):\n",
    "    dxdt = np.zeros(2)\n",
    "    \n",
    "    dxdt[0] = x[0]**2 - x[0]**3 + x[1]\n",
    "    dxdt[1] = control(x)\n",
    "    \n",
    "    return dxdt"
   ]
  },
  {
   "cell_type": "code",
   "execution_count": 26,
   "id": "1ebf922b",
   "metadata": {},
   "outputs": [
    {
     "data": {
      "image/png": "[encoded data removed]",
      "text/plain": [
       "<Figure size 432x288 with 1 Axes>"
      ]
     },
     "metadata": {
      "needs_background": "light"
     },
     "output_type": "display_data"
    }
   ],
   "source": [
    "t0, tf, dt = 0, 1000, 0.1\n",
    "# t0, tf, dt = 0, 100, 0.1\n",
    "t_sol = np.arange(t0, tf, dt)\n",
    "\n",
    "x0 = [10, 0]\n",
    "\n",
    "sol = sci.solve_ivp(rhs, (t0, tf), x0, t_eval = t_sol)\n",
    "\n",
    "x_sol = sol.y.T\n",
    "\n",
    "pltlim = 1.1*max(max(x_sol[:,0]), max(x_sol[:,1]))\n",
    "\n",
    "fig = plt.figure()\n",
    "ax = fig.add_subplot(111)\n",
    "plt.xlim(-pltlim, pltlim)\n",
    "plt.ylim(-pltlim, pltlim)\n",
    "ax.plot(x_sol[:, 0], x_sol[:, 1])\n",
    "ax.grid(True)\n",
    "ax.set_title('Phase Plane')\n",
    "ax.set_ylabel(\"x[1]\")\n",
    "ax.set_xlabel(\"x[0]\")\n",
    "ax.set_aspect('equal')"
   ]
  },
  {
   "cell_type": "code",
   "execution_count": 12,
   "id": "e4df4f03",
   "metadata": {},
   "outputs": [],
   "source": [
    "class Parameters(object):\n",
    "    pass\n",
    "\n",
    "par = Parameters()\n",
    "par.lambd = 1\n",
    "\n",
    "def control(x):\n",
    "    return - x**2\n",
    "    \n",
    "def rhs_one(t, x):\n",
    "    dxdt = np.zeros(1)\n",
    "    \n",
    "    dxdt = x**2 - x**3 + control(x)\n",
    "    \n",
    "    return dxdt"
   ]
  },
  {
   "cell_type": "code",
   "execution_count": 25,
   "id": "a70032c0",
   "metadata": {},
   "outputs": [
    {
     "data": {
      "text/plain": [
       "Text(0.5, 0, 't')"
      ]
     },
     "execution_count": 25,
     "metadata": {},
     "output_type": "execute_result"
    },
    {
     "data": {
      "image/png": "[encoded data removed]",
      "text/plain": [
       "<Figure size 432x288 with 1 Axes>"
      ]
     },
     "metadata": {
      "needs_background": "light"
     },
     "output_type": "display_data"
    }
   ],
   "source": [
    "t0, tf, dt = 0, 1000, 0.1\n",
    "# t0, tf, dt = 0, 100, 0.1\n",
    "t_sol = np.arange(t0, tf, dt)\n",
    "\n",
    "x0 = [10]\n",
    "\n",
    "sol = sci.solve_ivp(rhs_one, (t0, tf), x0, t_eval = t_sol)\n",
    "\n",
    "x_sol = sol.y.T\n",
    "t = sol.t\n",
    "\n",
    "# pltlim = 1.1*max(x_sol[:])\n",
    "\n",
    "fig = plt.figure()\n",
    "ax = fig.add_subplot(111)\n",
    "# plt.xlim(0,  pltlim)\n",
    "# plt.ylim(-pltlim, pltlim)\n",
    "ax.plot(t, x_sol)\n",
    "ax.grid(True)\n",
    "# ax.set_title('Phase Plane')\n",
    "ax.set_ylabel(\"x\")\n",
    "ax.set_xlabel(\"t\")\n",
    "# ax.set_aspect('equal')"
   ]
  },
  {
   "cell_type": "code",
   "execution_count": null,
   "id": "f1475c21",
   "metadata": {},
   "outputs": [],
   "source": []
  }
 ],
 "metadata": {
  "kernelspec": {
   "display_name": "Python 3 (ipykernel)",
   "language": "python",
   "name": "python3"
  },
  "language_info": {
   "codemirror_mode": {
    "name": "ipython",
    "version": 3
   },
   "file_extension": ".py",
   "mimetype": "text/x-python",
   "name": "python",
   "nbconvert_exporter": "python",
   "pygments_lexer": "ipython3",
   "version": "3.9.7"
  }
 },
 "nbformat": 4,
 "nbformat_minor": 5
}
